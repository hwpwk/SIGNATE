{
 "cells": [
  {
   "cell_type": "code",
   "execution_count": 1,
   "metadata": {},
   "outputs": [
    {
     "name": "stderr",
     "output_type": "stream",
     "text": [
      "C:\\Users\\Tomori kengo\\Anaconda3\\lib\\site-packages\\sklearn\\cross_validation.py:41: DeprecationWarning: This module was deprecated in version 0.18 in favor of the model_selection module into which all the refactored classes and functions are moved. Also note that the interface of the new CV iterators are different from that of this module. This module will be removed in 0.20.\n",
      "  \"This module will be removed in 0.20.\", DeprecationWarning)\n",
      "C:\\Users\\Tomori kengo\\Anaconda3\\lib\\site-packages\\sklearn\\grid_search.py:42: DeprecationWarning: This module was deprecated in version 0.18 in favor of the model_selection module into which all the refactored classes and functions are moved. This module will be removed in 0.20.\n",
      "  DeprecationWarning)\n"
     ]
    }
   ],
   "source": [
    "import pandas as pd\n",
    "import numpy as np\n",
    "\n",
    "from matplotlib import pyplot as plt\n",
    "import seaborn as sns\n",
    "import pydotplus\n",
    "from IPython.display import Image\n",
    "from sklearn.externals.six import StringIO\n",
    "%matplotlib inline\n",
    "\n",
    "import lightgbm as lgb\n",
    "from sklearn.model_selection import train_test_split\n",
    "from sklearn.linear_model import LinearRegression as LR\n",
    "from sklearn.ensemble import RandomForestClassifier\n",
    "from sklearn.ensemble import RandomForestRegressor\n",
    "from sklearn.cross_validation import cross_val_score\n",
    "from sklearn import grid_search\n",
    "\n",
    "from sklearn.cross_validation import KFold\n",
    "from sklearn.cross_validation import StratifiedKFold\n",
    "\n",
    "from sklearn.metrics import classification_report, roc_auc_score, precision_recall_curve, auc, roc_curve"
   ]
  },
  {
   "cell_type": "code",
   "execution_count": null,
   "metadata": {
    "collapsed": true
   },
   "outputs": [],
   "source": [
    "# tsvファイルをcsvファイルに変更してから読み込み"
   ]
  },
  {
   "cell_type": "code",
   "execution_count": 2,
   "metadata": {
    "collapsed": true,
    "scrolled": false
   },
   "outputs": [],
   "source": [
    "df_train = pd.read_csv('train.csv', delimiter='\\t')"
   ]
  },
  {
   "cell_type": "code",
   "execution_count": 3,
   "metadata": {
    "scrolled": true
   },
   "outputs": [
    {
     "data": {
      "text/html": [
       "<div>\n",
       "<style scoped>\n",
       "    .dataframe tbody tr th:only-of-type {\n",
       "        vertical-align: middle;\n",
       "    }\n",
       "\n",
       "    .dataframe tbody tr th {\n",
       "        vertical-align: top;\n",
       "    }\n",
       "\n",
       "    .dataframe thead th {\n",
       "        text-align: right;\n",
       "    }\n",
       "</style>\n",
       "<table border=\"1\" class=\"dataframe\">\n",
       "  <thead>\n",
       "    <tr style=\"text-align: right;\">\n",
       "      <th></th>\n",
       "      <th>id</th>\n",
       "      <th>survived</th>\n",
       "      <th>pclass</th>\n",
       "      <th>sex</th>\n",
       "      <th>age</th>\n",
       "      <th>sibsp</th>\n",
       "      <th>parch</th>\n",
       "      <th>fare</th>\n",
       "      <th>embarked</th>\n",
       "    </tr>\n",
       "  </thead>\n",
       "  <tbody>\n",
       "    <tr>\n",
       "      <th>0</th>\n",
       "      <td>3</td>\n",
       "      <td>1</td>\n",
       "      <td>1</td>\n",
       "      <td>female</td>\n",
       "      <td>35.0</td>\n",
       "      <td>1</td>\n",
       "      <td>0</td>\n",
       "      <td>53.1000</td>\n",
       "      <td>S</td>\n",
       "    </tr>\n",
       "    <tr>\n",
       "      <th>1</th>\n",
       "      <td>4</td>\n",
       "      <td>0</td>\n",
       "      <td>3</td>\n",
       "      <td>male</td>\n",
       "      <td>35.0</td>\n",
       "      <td>0</td>\n",
       "      <td>0</td>\n",
       "      <td>8.0500</td>\n",
       "      <td>S</td>\n",
       "    </tr>\n",
       "    <tr>\n",
       "      <th>2</th>\n",
       "      <td>7</td>\n",
       "      <td>0</td>\n",
       "      <td>3</td>\n",
       "      <td>male</td>\n",
       "      <td>2.0</td>\n",
       "      <td>3</td>\n",
       "      <td>1</td>\n",
       "      <td>21.0750</td>\n",
       "      <td>S</td>\n",
       "    </tr>\n",
       "    <tr>\n",
       "      <th>3</th>\n",
       "      <td>9</td>\n",
       "      <td>1</td>\n",
       "      <td>2</td>\n",
       "      <td>female</td>\n",
       "      <td>14.0</td>\n",
       "      <td>1</td>\n",
       "      <td>0</td>\n",
       "      <td>30.0708</td>\n",
       "      <td>C</td>\n",
       "    </tr>\n",
       "    <tr>\n",
       "      <th>4</th>\n",
       "      <td>11</td>\n",
       "      <td>1</td>\n",
       "      <td>1</td>\n",
       "      <td>female</td>\n",
       "      <td>58.0</td>\n",
       "      <td>0</td>\n",
       "      <td>0</td>\n",
       "      <td>26.5500</td>\n",
       "      <td>S</td>\n",
       "    </tr>\n",
       "  </tbody>\n",
       "</table>\n",
       "</div>"
      ],
      "text/plain": [
       "   id  survived  pclass     sex   age  sibsp  parch     fare embarked\n",
       "0   3         1       1  female  35.0      1      0  53.1000        S\n",
       "1   4         0       3    male  35.0      0      0   8.0500        S\n",
       "2   7         0       3    male   2.0      3      1  21.0750        S\n",
       "3   9         1       2  female  14.0      1      0  30.0708        C\n",
       "4  11         1       1  female  58.0      0      0  26.5500        S"
      ]
     },
     "execution_count": 3,
     "metadata": {},
     "output_type": "execute_result"
    }
   ],
   "source": [
    "df_train.head()"
   ]
  },
  {
   "cell_type": "code",
   "execution_count": 4,
   "metadata": {
    "collapsed": true,
    "scrolled": true
   },
   "outputs": [],
   "source": [
    "df_test = pd.read_csv('test.csv', delimiter='\\t')"
   ]
  },
  {
   "cell_type": "code",
   "execution_count": 5,
   "metadata": {},
   "outputs": [
    {
     "data": {
      "text/html": [
       "<div>\n",
       "<style scoped>\n",
       "    .dataframe tbody tr th:only-of-type {\n",
       "        vertical-align: middle;\n",
       "    }\n",
       "\n",
       "    .dataframe tbody tr th {\n",
       "        vertical-align: top;\n",
       "    }\n",
       "\n",
       "    .dataframe thead th {\n",
       "        text-align: right;\n",
       "    }\n",
       "</style>\n",
       "<table border=\"1\" class=\"dataframe\">\n",
       "  <thead>\n",
       "    <tr style=\"text-align: right;\">\n",
       "      <th></th>\n",
       "      <th>id</th>\n",
       "      <th>pclass</th>\n",
       "      <th>sex</th>\n",
       "      <th>age</th>\n",
       "      <th>sibsp</th>\n",
       "      <th>parch</th>\n",
       "      <th>fare</th>\n",
       "      <th>embarked</th>\n",
       "    </tr>\n",
       "  </thead>\n",
       "  <tbody>\n",
       "    <tr>\n",
       "      <th>0</th>\n",
       "      <td>0</td>\n",
       "      <td>3</td>\n",
       "      <td>male</td>\n",
       "      <td>22.0</td>\n",
       "      <td>1</td>\n",
       "      <td>0</td>\n",
       "      <td>7.2500</td>\n",
       "      <td>S</td>\n",
       "    </tr>\n",
       "    <tr>\n",
       "      <th>1</th>\n",
       "      <td>1</td>\n",
       "      <td>1</td>\n",
       "      <td>female</td>\n",
       "      <td>38.0</td>\n",
       "      <td>1</td>\n",
       "      <td>0</td>\n",
       "      <td>71.2833</td>\n",
       "      <td>C</td>\n",
       "    </tr>\n",
       "    <tr>\n",
       "      <th>2</th>\n",
       "      <td>2</td>\n",
       "      <td>3</td>\n",
       "      <td>female</td>\n",
       "      <td>26.0</td>\n",
       "      <td>0</td>\n",
       "      <td>0</td>\n",
       "      <td>7.9250</td>\n",
       "      <td>S</td>\n",
       "    </tr>\n",
       "    <tr>\n",
       "      <th>3</th>\n",
       "      <td>5</td>\n",
       "      <td>3</td>\n",
       "      <td>male</td>\n",
       "      <td>NaN</td>\n",
       "      <td>0</td>\n",
       "      <td>0</td>\n",
       "      <td>8.4583</td>\n",
       "      <td>Q</td>\n",
       "    </tr>\n",
       "    <tr>\n",
       "      <th>4</th>\n",
       "      <td>6</td>\n",
       "      <td>1</td>\n",
       "      <td>male</td>\n",
       "      <td>54.0</td>\n",
       "      <td>0</td>\n",
       "      <td>0</td>\n",
       "      <td>51.8625</td>\n",
       "      <td>S</td>\n",
       "    </tr>\n",
       "  </tbody>\n",
       "</table>\n",
       "</div>"
      ],
      "text/plain": [
       "   id  pclass     sex   age  sibsp  parch     fare embarked\n",
       "0   0       3    male  22.0      1      0   7.2500        S\n",
       "1   1       1  female  38.0      1      0  71.2833        C\n",
       "2   2       3  female  26.0      0      0   7.9250        S\n",
       "3   5       3    male   NaN      0      0   8.4583        Q\n",
       "4   6       1    male  54.0      0      0  51.8625        S"
      ]
     },
     "execution_count": 5,
     "metadata": {},
     "output_type": "execute_result"
    }
   ],
   "source": [
    "df_test.head()"
   ]
  },
  {
   "cell_type": "code",
   "execution_count": 6,
   "metadata": {
    "scrolled": true
   },
   "outputs": [
    {
     "name": "stdout",
     "output_type": "stream",
     "text": [
      "id           0\n",
      "survived     0\n",
      "pclass       0\n",
      "sex          0\n",
      "age         85\n",
      "sibsp        0\n",
      "parch        0\n",
      "fare         0\n",
      "embarked     2\n",
      "dtype: int64\n",
      "id           0\n",
      "pclass       0\n",
      "sex          0\n",
      "age         92\n",
      "sibsp        0\n",
      "parch        0\n",
      "fare         0\n",
      "embarked     0\n",
      "dtype: int64\n"
     ]
    }
   ],
   "source": [
    "# 欠損値の確認\n",
    "print(df_train.isnull().sum())\n",
    "print(df_test.isnull().sum())"
   ]
  },
  {
   "cell_type": "code",
   "execution_count": 7,
   "metadata": {},
   "outputs": [
    {
     "data": {
      "text/plain": [
       "<matplotlib.axes._subplots.AxesSubplot at 0x1a0c91226a0>"
      ]
     },
     "execution_count": 7,
     "metadata": {},
     "output_type": "execute_result"
    },
    {
     "data": {
      "image/png": "[encoded data removed]",
      "text/plain": [
       "<matplotlib.figure.Figure at 0x1a0c9122860>"
      ]
     },
     "metadata": {},
     "output_type": "display_data"
    }
   ],
   "source": [
    "# 分布を確認\n",
    "df_train['age'].hist()"
   ]
  },
  {
   "cell_type": "code",
   "execution_count": 8,
   "metadata": {},
   "outputs": [
    {
     "name": "stdout",
     "output_type": "stream",
     "text": [
      "29.211583333333333\n",
      "28.0\n"
     ]
    }
   ],
   "source": [
    "print(df_train['age'].mean())\n",
    "print(df_train['age'].median())\n",
    "# 平均と中央値にはあまり違いはない"
   ]
  },
  {
   "cell_type": "code",
   "execution_count": 9,
   "metadata": {},
   "outputs": [
    {
     "name": "stdout",
     "output_type": "stream",
     "text": [
      "30.194915254237287\n",
      "28.25\n"
     ]
    }
   ],
   "source": [
    "print(df_test['age'].mean())\n",
    "print(df_test['age'].median())"
   ]
  },
  {
   "cell_type": "code",
   "execution_count": 10,
   "metadata": {
    "collapsed": true
   },
   "outputs": [],
   "source": [
    "df_train['age'] = df_train['age'].fillna(df_train['age'].median())\n",
    "df_test['age']= df_test['age'].fillna(df_test['age'].median())"
   ]
  },
  {
   "cell_type": "code",
   "execution_count": 11,
   "metadata": {},
   "outputs": [
    {
     "name": "stdout",
     "output_type": "stream",
     "text": [
      "id          0\n",
      "survived    0\n",
      "pclass      0\n",
      "sex         0\n",
      "age         0\n",
      "sibsp       0\n",
      "parch       0\n",
      "fare        0\n",
      "embarked    2\n",
      "dtype: int64\n",
      "id          0\n",
      "pclass      0\n",
      "sex         0\n",
      "age         0\n",
      "sibsp       0\n",
      "parch       0\n",
      "fare        0\n",
      "embarked    0\n",
      "dtype: int64\n"
     ]
    }
   ],
   "source": [
    "print(df_train.isnull().sum())\n",
    "print(df_test.isnull().sum())"
   ]
  },
  {
   "cell_type": "code",
   "execution_count": 12,
   "metadata": {},
   "outputs": [
    {
     "data": {
      "text/plain": [
       "S    325\n",
       "C     79\n",
       "Q     39\n",
       "Name: embarked, dtype: int64"
      ]
     },
     "execution_count": 12,
     "metadata": {},
     "output_type": "execute_result"
    }
   ],
   "source": [
    "# embarked毎のカウント数を確認\n",
    "df_train['embarked'].value_counts()"
   ]
  },
  {
   "cell_type": "code",
   "execution_count": 13,
   "metadata": {
    "collapsed": true
   },
   "outputs": [],
   "source": [
    "# Sが多いのでSを補完する\n",
    "df_train['embarked'] = df_train['embarked'].fillna('S')"
   ]
  },
  {
   "cell_type": "code",
   "execution_count": 14,
   "metadata": {},
   "outputs": [
    {
     "name": "stdout",
     "output_type": "stream",
     "text": [
      "id          0\n",
      "survived    0\n",
      "pclass      0\n",
      "sex         0\n",
      "age         0\n",
      "sibsp       0\n",
      "parch       0\n",
      "fare        0\n",
      "embarked    0\n",
      "dtype: int64\n"
     ]
    }
   ],
   "source": [
    "print(df_train.isnull().sum())"
   ]
  },
  {
   "cell_type": "code",
   "execution_count": 15,
   "metadata": {},
   "outputs": [
    {
     "data": {
      "text/plain": [
       "S    327\n",
       "C     79\n",
       "Q     39\n",
       "Name: embarked, dtype: int64"
      ]
     },
     "execution_count": 15,
     "metadata": {},
     "output_type": "execute_result"
    }
   ],
   "source": [
    "#Sの数が+2になっているかどうか確認\n",
    "df_train['embarked'].value_counts()"
   ]
  },
  {
   "cell_type": "code",
   "execution_count": 16,
   "metadata": {
    "scrolled": true
   },
   "outputs": [
    {
     "name": "stdout",
     "output_type": "stream",
     "text": [
      "<class 'pandas.core.frame.DataFrame'>\n",
      "RangeIndex: 445 entries, 0 to 444\n",
      "Data columns (total 9 columns):\n",
      "id          445 non-null int64\n",
      "survived    445 non-null int64\n",
      "pclass      445 non-null int64\n",
      "sex         445 non-null object\n",
      "age         445 non-null float64\n",
      "sibsp       445 non-null int64\n",
      "parch       445 non-null int64\n",
      "fare        445 non-null float64\n",
      "embarked    445 non-null object\n",
      "dtypes: float64(2), int64(5), object(2)\n",
      "memory usage: 31.4+ KB\n",
      "None\n",
      "<class 'pandas.core.frame.DataFrame'>\n",
      "RangeIndex: 446 entries, 0 to 445\n",
      "Data columns (total 8 columns):\n",
      "id          446 non-null int64\n",
      "pclass      446 non-null int64\n",
      "sex         446 non-null object\n",
      "age         446 non-null float64\n",
      "sibsp       446 non-null int64\n",
      "parch       446 non-null int64\n",
      "fare        446 non-null float64\n",
      "embarked    446 non-null object\n",
      "dtypes: float64(2), int64(4), object(2)\n",
      "memory usage: 28.0+ KB\n",
      "None\n"
     ]
    }
   ],
   "source": [
    "# survivedとの相関を見たいので文字列型のカラムをダミー変数に変換したい\n",
    "# どのカラムが文字列型を確認\n",
    "print(df_train.info())\n",
    "print(df_test.info())"
   ]
  },
  {
   "cell_type": "code",
   "execution_count": 17,
   "metadata": {
    "collapsed": true
   },
   "outputs": [],
   "source": [
    "# embarkedをダミー変数に変更する\n",
    "# df_train[\"sex\"] = pd.get_dummies(df_train[[\"sex\"]])\n",
    "df_train[\"embarked\"] = pd.get_dummies(df_train[\"embarked\"])\n",
    "# df_test[\"sex\"] = pd.get_dummies(df_test[[\"sex\"]])\n",
    "df_test[\"embarked\"] = pd.get_dummies(df_test[\"embarked\"])"
   ]
  },
  {
   "cell_type": "code",
   "execution_count": 18,
   "metadata": {
    "scrolled": false
   },
   "outputs": [
    {
     "name": "stdout",
     "output_type": "stream",
     "text": [
      "   id  survived  pclass     sex   age  sibsp  parch     fare  embarked\n",
      "0   3         1       1  female  35.0      1      0  53.1000         0\n",
      "1   4         0       3    male  35.0      0      0   8.0500         0\n",
      "2   7         0       3    male   2.0      3      1  21.0750         0\n",
      "3   9         1       2  female  14.0      1      0  30.0708         1\n",
      "4  11         1       1  female  58.0      0      0  26.5500         0\n",
      "   id  pclass     sex    age  sibsp  parch     fare  embarked\n",
      "0   0       3    male  22.00      1      0   7.2500         0\n",
      "1   1       1  female  38.00      1      0  71.2833         1\n",
      "2   2       3  female  26.00      0      0   7.9250         0\n",
      "3   5       3    male  28.25      0      0   8.4583         0\n",
      "4   6       1    male  54.00      0      0  51.8625         0\n"
     ]
    }
   ],
   "source": [
    "print(df_train.head())\n",
    "print(df_test.head())"
   ]
  },
  {
   "cell_type": "code",
   "execution_count": 20,
   "metadata": {},
   "outputs": [],
   "source": [
    "df_train['sex'] = df_train['sex'].replace('female', -1).replace('male', 1)\n",
    "df_test['sex'] = df_test['sex'].replace('female', -1).replace('male', 1)"
   ]
  },
  {
   "cell_type": "code",
   "execution_count": 21,
   "metadata": {},
   "outputs": [
    {
     "name": "stdout",
     "output_type": "stream",
     "text": [
      "   id  survived  pclass  sex   age  sibsp  parch     fare  embarked\n",
      "0   3         1       1   -1  35.0      1      0  53.1000         0\n",
      "1   4         0       3    1  35.0      0      0   8.0500         0\n",
      "2   7         0       3    1   2.0      3      1  21.0750         0\n",
      "3   9         1       2   -1  14.0      1      0  30.0708         1\n",
      "4  11         1       1   -1  58.0      0      0  26.5500         0\n",
      "   id  pclass  sex    age  sibsp  parch     fare  embarked\n",
      "0   0       3    1  22.00      1      0   7.2500         0\n",
      "1   1       1   -1  38.00      1      0  71.2833         1\n",
      "2   2       3   -1  26.00      0      0   7.9250         0\n",
      "3   5       3    1  28.25      0      0   8.4583         0\n",
      "4   6       1    1  54.00      0      0  51.8625         0\n"
     ]
    }
   ],
   "source": [
    "print(df_train.head())\n",
    "print(df_test.head())"
   ]
  },
  {
   "cell_type": "code",
   "execution_count": 22,
   "metadata": {
    "collapsed": true
   },
   "outputs": [],
   "source": [
    "df_train['PS'] = df_train['pclass'] + df_train['sex']\n",
    "df_test['PS'] = df_test['pclass'] + df_test['sex']"
   ]
  },
  {
   "cell_type": "code",
   "execution_count": 23,
   "metadata": {
    "collapsed": true
   },
   "outputs": [],
   "source": [
    "df_train['sex'] = df_train['sex'].replace(-1, 0).replace(1, 1)\n",
    "df_test['sex'] = df_test['sex'].replace(-1, 0).replace(1, 1)"
   ]
  },
  {
   "cell_type": "code",
   "execution_count": 25,
   "metadata": {},
   "outputs": [],
   "source": [
    "df_train['family'] = df_train['sibsp'] + df_train['parch']\n",
    "df_test['family'] = df_test['sibsp'] + df_test['parch']"
   ]
  },
  {
   "cell_type": "code",
   "execution_count": 26,
   "metadata": {},
   "outputs": [
    {
     "name": "stdout",
     "output_type": "stream",
     "text": [
      "   id  survived  pclass  sex   age  sibsp  parch     fare  embarked  PS  \\\n",
      "0   3         1       1    0  35.0      1      0  53.1000         0   0   \n",
      "1   4         0       3    1  35.0      0      0   8.0500         0   4   \n",
      "2   7         0       3    1   2.0      3      1  21.0750         0   4   \n",
      "3   9         1       2    0  14.0      1      0  30.0708         1   1   \n",
      "4  11         1       1    0  58.0      0      0  26.5500         0   0   \n",
      "\n",
      "   family  \n",
      "0       1  \n",
      "1       0  \n",
      "2       4  \n",
      "3       1  \n",
      "4       0  \n",
      "   id  pclass  sex    age  sibsp  parch     fare  embarked  PS  family\n",
      "0   0       3    1  22.00      1      0   7.2500         0   4       1\n",
      "1   1       1    0  38.00      1      0  71.2833         1   0       1\n",
      "2   2       3    0  26.00      0      0   7.9250         0   2       0\n",
      "3   5       3    1  28.25      0      0   8.4583         0   4       0\n",
      "4   6       1    1  54.00      0      0  51.8625         0   2       0\n"
     ]
    }
   ],
   "source": [
    "print(df_train.head())\n",
    "print(df_test.head())"
   ]
  },
  {
   "cell_type": "code",
   "execution_count": 27,
   "metadata": {},
   "outputs": [
    {
     "data": {
      "text/html": [
       "<div>\n",
       "<style scoped>\n",
       "    .dataframe tbody tr th:only-of-type {\n",
       "        vertical-align: middle;\n",
       "    }\n",
       "\n",
       "    .dataframe tbody tr th {\n",
       "        vertical-align: top;\n",
       "    }\n",
       "\n",
       "    .dataframe thead th {\n",
       "        text-align: right;\n",
       "    }\n",
       "</style>\n",
       "<table border=\"1\" class=\"dataframe\">\n",
       "  <thead>\n",
       "    <tr style=\"text-align: right;\">\n",
       "      <th></th>\n",
       "      <th>id</th>\n",
       "      <th>survived</th>\n",
       "      <th>pclass</th>\n",
       "      <th>sex</th>\n",
       "      <th>age</th>\n",
       "      <th>sibsp</th>\n",
       "      <th>parch</th>\n",
       "      <th>fare</th>\n",
       "      <th>embarked</th>\n",
       "      <th>PS</th>\n",
       "      <th>family</th>\n",
       "    </tr>\n",
       "  </thead>\n",
       "  <tbody>\n",
       "    <tr>\n",
       "      <th>id</th>\n",
       "      <td>1.000000</td>\n",
       "      <td>0.024264</td>\n",
       "      <td>-0.059345</td>\n",
       "      <td>0.033435</td>\n",
       "      <td>0.105383</td>\n",
       "      <td>-0.020491</td>\n",
       "      <td>-0.031417</td>\n",
       "      <td>0.077649</td>\n",
       "      <td>-0.012297</td>\n",
       "      <td>-0.012677</td>\n",
       "      <td>-0.029503</td>\n",
       "    </tr>\n",
       "    <tr>\n",
       "      <th>survived</th>\n",
       "      <td>0.024264</td>\n",
       "      <td>1.000000</td>\n",
       "      <td>-0.358097</td>\n",
       "      <td>-0.559465</td>\n",
       "      <td>-0.069804</td>\n",
       "      <td>-0.045087</td>\n",
       "      <td>0.079669</td>\n",
       "      <td>0.258605</td>\n",
       "      <td>0.182568</td>\n",
       "      <td>-0.601734</td>\n",
       "      <td>0.007989</td>\n",
       "    </tr>\n",
       "    <tr>\n",
       "      <th>pclass</th>\n",
       "      <td>-0.059345</td>\n",
       "      <td>-0.358097</td>\n",
       "      <td>1.000000</td>\n",
       "      <td>0.193761</td>\n",
       "      <td>-0.280203</td>\n",
       "      <td>0.069857</td>\n",
       "      <td>-0.015726</td>\n",
       "      <td>-0.549651</td>\n",
       "      <td>-0.207779</td>\n",
       "      <td>0.736055</td>\n",
       "      <td>0.040397</td>\n",
       "    </tr>\n",
       "    <tr>\n",
       "      <th>sex</th>\n",
       "      <td>0.033435</td>\n",
       "      <td>-0.559465</td>\n",
       "      <td>0.193761</td>\n",
       "      <td>1.000000</td>\n",
       "      <td>0.063916</td>\n",
       "      <td>-0.097883</td>\n",
       "      <td>-0.220046</td>\n",
       "      <td>-0.168935</td>\n",
       "      <td>-0.102369</td>\n",
       "      <td>0.806712</td>\n",
       "      <td>-0.175216</td>\n",
       "    </tr>\n",
       "    <tr>\n",
       "      <th>age</th>\n",
       "      <td>0.105383</td>\n",
       "      <td>-0.069804</td>\n",
       "      <td>-0.280203</td>\n",
       "      <td>0.063916</td>\n",
       "      <td>1.000000</td>\n",
       "      <td>-0.187563</td>\n",
       "      <td>-0.140368</td>\n",
       "      <td>0.101165</td>\n",
       "      <td>0.003845</td>\n",
       "      <td>-0.124682</td>\n",
       "      <td>-0.197929</td>\n",
       "    </tr>\n",
       "    <tr>\n",
       "      <th>sibsp</th>\n",
       "      <td>-0.020491</td>\n",
       "      <td>-0.045087</td>\n",
       "      <td>0.069857</td>\n",
       "      <td>-0.097883</td>\n",
       "      <td>-0.187563</td>\n",
       "      <td>1.000000</td>\n",
       "      <td>0.423522</td>\n",
       "      <td>0.164773</td>\n",
       "      <td>-0.074573</td>\n",
       "      <td>-0.025460</td>\n",
       "      <td>0.896098</td>\n",
       "    </tr>\n",
       "    <tr>\n",
       "      <th>parch</th>\n",
       "      <td>-0.031417</td>\n",
       "      <td>0.079669</td>\n",
       "      <td>-0.015726</td>\n",
       "      <td>-0.220046</td>\n",
       "      <td>-0.140368</td>\n",
       "      <td>0.423522</td>\n",
       "      <td>1.000000</td>\n",
       "      <td>0.241855</td>\n",
       "      <td>-0.014436</td>\n",
       "      <td>-0.161304</td>\n",
       "      <td>0.781600</td>\n",
       "    </tr>\n",
       "    <tr>\n",
       "      <th>fare</th>\n",
       "      <td>0.077649</td>\n",
       "      <td>0.258605</td>\n",
       "      <td>-0.549651</td>\n",
       "      <td>-0.168935</td>\n",
       "      <td>0.101165</td>\n",
       "      <td>0.164773</td>\n",
       "      <td>0.241855</td>\n",
       "      <td>1.000000</td>\n",
       "      <td>0.219983</td>\n",
       "      <td>-0.447653</td>\n",
       "      <td>0.231961</td>\n",
       "    </tr>\n",
       "    <tr>\n",
       "      <th>embarked</th>\n",
       "      <td>-0.012297</td>\n",
       "      <td>0.182568</td>\n",
       "      <td>-0.207779</td>\n",
       "      <td>-0.102369</td>\n",
       "      <td>0.003845</td>\n",
       "      <td>-0.074573</td>\n",
       "      <td>-0.014436</td>\n",
       "      <td>0.219983</td>\n",
       "      <td>1.000000</td>\n",
       "      <td>-0.195792</td>\n",
       "      <td>-0.058423</td>\n",
       "    </tr>\n",
       "    <tr>\n",
       "      <th>PS</th>\n",
       "      <td>-0.012677</td>\n",
       "      <td>-0.601734</td>\n",
       "      <td>0.736055</td>\n",
       "      <td>0.806712</td>\n",
       "      <td>-0.124682</td>\n",
       "      <td>-0.025460</td>\n",
       "      <td>-0.161304</td>\n",
       "      <td>-0.447653</td>\n",
       "      <td>-0.195792</td>\n",
       "      <td>1.000000</td>\n",
       "      <td>-0.096565</td>\n",
       "    </tr>\n",
       "    <tr>\n",
       "      <th>family</th>\n",
       "      <td>-0.029503</td>\n",
       "      <td>0.007989</td>\n",
       "      <td>0.040397</td>\n",
       "      <td>-0.175216</td>\n",
       "      <td>-0.197929</td>\n",
       "      <td>0.896098</td>\n",
       "      <td>0.781600</td>\n",
       "      <td>0.231961</td>\n",
       "      <td>-0.058423</td>\n",
       "      <td>-0.096565</td>\n",
       "      <td>1.000000</td>\n",
       "    </tr>\n",
       "  </tbody>\n",
       "</table>\n",
       "</div>"
      ],
      "text/plain": [
       "                id  survived    pclass       sex       age     sibsp  \\\n",
       "id        1.000000  0.024264 -0.059345  0.033435  0.105383 -0.020491   \n",
       "survived  0.024264  1.000000 -0.358097 -0.559465 -0.069804 -0.045087   \n",
       "pclass   -0.059345 -0.358097  1.000000  0.193761 -0.280203  0.069857   \n",
       "sex       0.033435 -0.559465  0.193761  1.000000  0.063916 -0.097883   \n",
       "age       0.105383 -0.069804 -0.280203  0.063916  1.000000 -0.187563   \n",
       "sibsp    -0.020491 -0.045087  0.069857 -0.097883 -0.187563  1.000000   \n",
       "parch    -0.031417  0.079669 -0.015726 -0.220046 -0.140368  0.423522   \n",
       "fare      0.077649  0.258605 -0.549651 -0.168935  0.101165  0.164773   \n",
       "embarked -0.012297  0.182568 -0.207779 -0.102369  0.003845 -0.074573   \n",
       "PS       -0.012677 -0.601734  0.736055  0.806712 -0.124682 -0.025460   \n",
       "family   -0.029503  0.007989  0.040397 -0.175216 -0.197929  0.896098   \n",
       "\n",
       "             parch      fare  embarked        PS    family  \n",
       "id       -0.031417  0.077649 -0.012297 -0.012677 -0.029503  \n",
       "survived  0.079669  0.258605  0.182568 -0.601734  0.007989  \n",
       "pclass   -0.015726 -0.549651 -0.207779  0.736055  0.040397  \n",
       "sex      -0.220046 -0.168935 -0.102369  0.806712 -0.175216  \n",
       "age      -0.140368  0.101165  0.003845 -0.124682 -0.197929  \n",
       "sibsp     0.423522  0.164773 -0.074573 -0.025460  0.896098  \n",
       "parch     1.000000  0.241855 -0.014436 -0.161304  0.781600  \n",
       "fare      0.241855  1.000000  0.219983 -0.447653  0.231961  \n",
       "embarked -0.014436  0.219983  1.000000 -0.195792 -0.058423  \n",
       "PS       -0.161304 -0.447653 -0.195792  1.000000 -0.096565  \n",
       "family    0.781600  0.231961 -0.058423 -0.096565  1.000000  "
      ]
     },
     "execution_count": 27,
     "metadata": {},
     "output_type": "execute_result"
    }
   ],
   "source": [
    "df_train.corr()\n",
    "# 今回はPSとの相関係数が大きいpclass、sexを除外する"
   ]
  },
  {
   "cell_type": "code",
   "execution_count": null,
   "metadata": {
    "collapsed": true
   },
   "outputs": [],
   "source": [
    "# ここからモデル作成"
   ]
  },
  {
   "cell_type": "code",
   "execution_count": 40,
   "metadata": {},
   "outputs": [],
   "source": [
    "# survived、pclass、sex以外のすべての変数を特徴量にする\n",
    "train_X = df_train.drop(['survived', 'pclass', 'sex'], axis=1)"
   ]
  },
  {
   "cell_type": "code",
   "execution_count": 41,
   "metadata": {
    "collapsed": true
   },
   "outputs": [],
   "source": [
    "# survivedを目的変数にする\n",
    "train_y = df_train['survived']"
   ]
  },
  {
   "cell_type": "code",
   "execution_count": 42,
   "metadata": {
    "collapsed": true
   },
   "outputs": [],
   "source": [
    "train_data_set = lgb.Dataset(train_X, train_y)"
   ]
  },
  {
   "cell_type": "code",
   "execution_count": 43,
   "metadata": {
    "collapsed": true
   },
   "outputs": [],
   "source": [
    "params = {                                                                                               \n",
    "    'boosting_type': 'gbdt',                                                                             \n",
    "    'objective': 'regression_l2',                                                                           \n",
    "    'metric': 'l2',                                                                             \n",
    "    'num_leaves': 40,                                                                                    \n",
    "    'learning_rate': 0.05,                                                                               \n",
    "    'feature_fraction': 0.9,                                                                             \n",
    "    'bagging_fraction': 0.8,                                                                             \n",
    "    'bagging_freq': 5,   \n",
    "    'lambda_l2': 2,\n",
    "} "
   ]
  },
  {
   "cell_type": "code",
   "execution_count": 44,
   "metadata": {
    "collapsed": true
   },
   "outputs": [],
   "source": [
    "# http://www.mizugarasu.jp/\n",
    "gbm = lgb.train(params, train_data_set, num_boost_round=1500)"
   ]
  },
  {
   "cell_type": "code",
   "execution_count": 45,
   "metadata": {
    "collapsed": true
   },
   "outputs": [],
   "source": [
    "test_X = df_test.drop(['pclass', 'sex'], axis=1)"
   ]
  },
  {
   "cell_type": "code",
   "execution_count": 46,
   "metadata": {
    "collapsed": true
   },
   "outputs": [],
   "source": [
    "# https://orizuru.io/blog/machine-learning/lightgbm-01/\n",
    "# http://marugari2.hatenablog.jp/entry/2016/12/14/235747\n",
    "pred_y = gbm.predict(test_X, num_iteration=gbm.best_iteration)"
   ]
  },
  {
   "cell_type": "code",
   "execution_count": 47,
   "metadata": {
    "collapsed": true
   },
   "outputs": [],
   "source": [
    "output = pd.read_csv('test.csv', delimiter='\\t')"
   ]
  },
  {
   "cell_type": "code",
   "execution_count": 48,
   "metadata": {
    "collapsed": true
   },
   "outputs": [],
   "source": [
    "output['survived'] = pred_y"
   ]
  },
  {
   "cell_type": "code",
   "execution_count": 49,
   "metadata": {
    "scrolled": true
   },
   "outputs": [
    {
     "data": {
      "text/html": [
       "<div>\n",
       "<style scoped>\n",
       "    .dataframe tbody tr th:only-of-type {\n",
       "        vertical-align: middle;\n",
       "    }\n",
       "\n",
       "    .dataframe tbody tr th {\n",
       "        vertical-align: top;\n",
       "    }\n",
       "\n",
       "    .dataframe thead th {\n",
       "        text-align: right;\n",
       "    }\n",
       "</style>\n",
       "<table border=\"1\" class=\"dataframe\">\n",
       "  <thead>\n",
       "    <tr style=\"text-align: right;\">\n",
       "      <th></th>\n",
       "      <th>id</th>\n",
       "      <th>pclass</th>\n",
       "      <th>sex</th>\n",
       "      <th>age</th>\n",
       "      <th>sibsp</th>\n",
       "      <th>parch</th>\n",
       "      <th>fare</th>\n",
       "      <th>embarked</th>\n",
       "      <th>survived</th>\n",
       "    </tr>\n",
       "  </thead>\n",
       "  <tbody>\n",
       "    <tr>\n",
       "      <th>0</th>\n",
       "      <td>0</td>\n",
       "      <td>3</td>\n",
       "      <td>male</td>\n",
       "      <td>22.0</td>\n",
       "      <td>1</td>\n",
       "      <td>0</td>\n",
       "      <td>7.2500</td>\n",
       "      <td>S</td>\n",
       "      <td>0.222465</td>\n",
       "    </tr>\n",
       "    <tr>\n",
       "      <th>1</th>\n",
       "      <td>1</td>\n",
       "      <td>1</td>\n",
       "      <td>female</td>\n",
       "      <td>38.0</td>\n",
       "      <td>1</td>\n",
       "      <td>0</td>\n",
       "      <td>71.2833</td>\n",
       "      <td>C</td>\n",
       "      <td>0.953648</td>\n",
       "    </tr>\n",
       "    <tr>\n",
       "      <th>2</th>\n",
       "      <td>2</td>\n",
       "      <td>3</td>\n",
       "      <td>female</td>\n",
       "      <td>26.0</td>\n",
       "      <td>0</td>\n",
       "      <td>0</td>\n",
       "      <td>7.9250</td>\n",
       "      <td>S</td>\n",
       "      <td>0.806509</td>\n",
       "    </tr>\n",
       "    <tr>\n",
       "      <th>3</th>\n",
       "      <td>5</td>\n",
       "      <td>3</td>\n",
       "      <td>male</td>\n",
       "      <td>NaN</td>\n",
       "      <td>0</td>\n",
       "      <td>0</td>\n",
       "      <td>8.4583</td>\n",
       "      <td>Q</td>\n",
       "      <td>0.099822</td>\n",
       "    </tr>\n",
       "    <tr>\n",
       "      <th>4</th>\n",
       "      <td>6</td>\n",
       "      <td>1</td>\n",
       "      <td>male</td>\n",
       "      <td>54.0</td>\n",
       "      <td>0</td>\n",
       "      <td>0</td>\n",
       "      <td>51.8625</td>\n",
       "      <td>S</td>\n",
       "      <td>0.395577</td>\n",
       "    </tr>\n",
       "  </tbody>\n",
       "</table>\n",
       "</div>"
      ],
      "text/plain": [
       "   id  pclass     sex   age  sibsp  parch     fare embarked  survived\n",
       "0   0       3    male  22.0      1      0   7.2500        S  0.222465\n",
       "1   1       1  female  38.0      1      0  71.2833        C  0.953648\n",
       "2   2       3  female  26.0      0      0   7.9250        S  0.806509\n",
       "3   5       3    male   NaN      0      0   8.4583        Q  0.099822\n",
       "4   6       1    male  54.0      0      0  51.8625        S  0.395577"
      ]
     },
     "execution_count": 49,
     "metadata": {},
     "output_type": "execute_result"
    }
   ],
   "source": [
    "# survivedカラムが追加されているか確認\n",
    "output.head()"
   ]
  },
  {
   "cell_type": "code",
   "execution_count": 50,
   "metadata": {
    "collapsed": true
   },
   "outputs": [],
   "source": [
    "# いったんcsvファイルで保存\n",
    "# その後、http://cgikon.com/tools/chfile/chfile_1.htmlでtsvファイルに変換\n",
    "output[['id', 'survived']].to_csv('sample_submit_180919_2.csv', header=False, index= False)"
   ]
  },
  {
   "cell_type": "code",
   "execution_count": null,
   "metadata": {
    "collapsed": true
   },
   "outputs": [],
   "source": [
    "# 結果は0.813674694877409"
   ]
  }
 ],
 "metadata": {
  "kernelspec": {
   "display_name": "Python 3",
   "language": "python",
   "name": "python3"
  },
  "language_info": {
   "codemirror_mode": {
    "name": "ipython",
    "version": 3
   },
   "file_extension": ".py",
   "mimetype": "text/x-python",
   "name": "python",
   "nbconvert_exporter": "python",
   "pygments_lexer": "ipython3",
   "version": "3.6.3"
  }
 },
 "nbformat": 4,
 "nbformat_minor": 2
}
